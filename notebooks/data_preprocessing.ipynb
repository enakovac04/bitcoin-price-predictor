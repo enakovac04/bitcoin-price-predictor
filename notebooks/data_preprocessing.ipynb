{
 "cells": [
  {
   "cell_type": "code",
   "execution_count": 3,
   "id": "181aff04",
   "metadata": {},
   "outputs": [
    {
     "ename": "ImportError",
     "evalue": "cannot import name 'AxisInt' from 'pandas._typing' (C:\\ProgramData\\Anaconda3\\lib\\site-packages\\pandas\\_typing.py)",
     "output_type": "error",
     "traceback": [
      "\u001b[1;31m---------------------------------------------------------------------------\u001b[0m",
      "\u001b[1;31mImportError\u001b[0m                               Traceback (most recent call last)",
      "Input \u001b[1;32mIn [3]\u001b[0m, in \u001b[0;36m<cell line: 1>\u001b[1;34m()\u001b[0m\n\u001b[1;32m----> 1\u001b[0m \u001b[38;5;28;01mimport\u001b[39;00m\u001b[38;5;250m \u001b[39m\u001b[38;5;21;01mpandas\u001b[39;00m\u001b[38;5;250m \u001b[39m\u001b[38;5;28;01mas\u001b[39;00m\u001b[38;5;250m \u001b[39m\u001b[38;5;21;01mpd\u001b[39;00m\n\u001b[0;32m      2\u001b[0m \u001b[38;5;28;01mimport\u001b[39;00m\u001b[38;5;250m \u001b[39m\u001b[38;5;21;01mnumpy\u001b[39;00m\u001b[38;5;250m \u001b[39m\u001b[38;5;28;01mas\u001b[39;00m\u001b[38;5;250m \u001b[39m\u001b[38;5;21;01mnp\u001b[39;00m\n\u001b[0;32m      3\u001b[0m \u001b[38;5;28;01mfrom\u001b[39;00m\u001b[38;5;250m \u001b[39m\u001b[38;5;21;01msklearn\u001b[39;00m\u001b[38;5;21;01m.\u001b[39;00m\u001b[38;5;21;01mpreprocessing\u001b[39;00m\u001b[38;5;250m \u001b[39m\u001b[38;5;28;01mimport\u001b[39;00m MinMaxScaler\n",
      "File \u001b[1;32m~\\AppData\\Roaming\\Python\\Python39\\site-packages\\pandas\\__init__.py:80\u001b[0m, in \u001b[0;36m<module>\u001b[1;34m\u001b[0m\n\u001b[0;32m     77\u001b[0m \u001b[38;5;66;03m# let init-time option registration happen\u001b[39;00m\n\u001b[0;32m     78\u001b[0m \u001b[38;5;28;01mimport\u001b[39;00m\u001b[38;5;250m \u001b[39m\u001b[38;5;21;01mpandas\u001b[39;00m\u001b[38;5;21;01m.\u001b[39;00m\u001b[38;5;21;01mcore\u001b[39;00m\u001b[38;5;21;01m.\u001b[39;00m\u001b[38;5;21;01mconfig_init\u001b[39;00m  \u001b[38;5;66;03m# pyright: ignore[reportUnusedImport] # noqa: F401\u001b[39;00m\n\u001b[1;32m---> 80\u001b[0m \u001b[38;5;28;01mfrom\u001b[39;00m\u001b[38;5;250m \u001b[39m\u001b[38;5;21;01mpandas\u001b[39;00m\u001b[38;5;21;01m.\u001b[39;00m\u001b[38;5;21;01mcore\u001b[39;00m\u001b[38;5;21;01m.\u001b[39;00m\u001b[38;5;21;01mapi\u001b[39;00m\u001b[38;5;250m \u001b[39m\u001b[38;5;28;01mimport\u001b[39;00m (\n\u001b[0;32m     81\u001b[0m     \u001b[38;5;66;03m# dtype\u001b[39;00m\n\u001b[0;32m     82\u001b[0m     ArrowDtype,\n\u001b[0;32m     83\u001b[0m     Int8Dtype,\n\u001b[0;32m     84\u001b[0m     Int16Dtype,\n\u001b[0;32m     85\u001b[0m     Int32Dtype,\n\u001b[0;32m     86\u001b[0m     Int64Dtype,\n\u001b[0;32m     87\u001b[0m     UInt8Dtype,\n\u001b[0;32m     88\u001b[0m     UInt16Dtype,\n\u001b[0;32m     89\u001b[0m     UInt32Dtype,\n\u001b[0;32m     90\u001b[0m     UInt64Dtype,\n\u001b[0;32m     91\u001b[0m     Float32Dtype,\n\u001b[0;32m     92\u001b[0m     Float64Dtype,\n\u001b[0;32m     93\u001b[0m     CategoricalDtype,\n\u001b[0;32m     94\u001b[0m     PeriodDtype,\n\u001b[0;32m     95\u001b[0m     IntervalDtype,\n\u001b[0;32m     96\u001b[0m     DatetimeTZDtype,\n\u001b[0;32m     97\u001b[0m     StringDtype,\n\u001b[0;32m     98\u001b[0m     BooleanDtype,\n\u001b[0;32m     99\u001b[0m     \u001b[38;5;66;03m# missing\u001b[39;00m\n\u001b[0;32m    100\u001b[0m     NA,\n\u001b[0;32m    101\u001b[0m     isna,\n\u001b[0;32m    102\u001b[0m     isnull,\n\u001b[0;32m    103\u001b[0m     notna,\n\u001b[0;32m    104\u001b[0m     notnull,\n\u001b[0;32m    105\u001b[0m     \u001b[38;5;66;03m# indexes\u001b[39;00m\n\u001b[0;32m    106\u001b[0m     Index,\n\u001b[0;32m    107\u001b[0m     CategoricalIndex,\n\u001b[0;32m    108\u001b[0m     RangeIndex,\n\u001b[0;32m    109\u001b[0m     MultiIndex,\n\u001b[0;32m    110\u001b[0m     IntervalIndex,\n\u001b[0;32m    111\u001b[0m     TimedeltaIndex,\n\u001b[0;32m    112\u001b[0m     DatetimeIndex,\n\u001b[0;32m    113\u001b[0m     PeriodIndex,\n\u001b[0;32m    114\u001b[0m     IndexSlice,\n\u001b[0;32m    115\u001b[0m     \u001b[38;5;66;03m# tseries\u001b[39;00m\n\u001b[0;32m    116\u001b[0m     NaT,\n\u001b[0;32m    117\u001b[0m     Period,\n\u001b[0;32m    118\u001b[0m     period_range,\n\u001b[0;32m    119\u001b[0m     Timedelta,\n\u001b[0;32m    120\u001b[0m     timedelta_range,\n\u001b[0;32m    121\u001b[0m     Timestamp,\n\u001b[0;32m    122\u001b[0m     date_range,\n\u001b[0;32m    123\u001b[0m     bdate_range,\n\u001b[0;32m    124\u001b[0m     Interval,\n\u001b[0;32m    125\u001b[0m     interval_range,\n\u001b[0;32m    126\u001b[0m     DateOffset,\n\u001b[0;32m    127\u001b[0m     \u001b[38;5;66;03m# conversion\u001b[39;00m\n\u001b[0;32m    128\u001b[0m     to_numeric,\n\u001b[0;32m    129\u001b[0m     to_datetime,\n\u001b[0;32m    130\u001b[0m     to_timedelta,\n\u001b[0;32m    131\u001b[0m     \u001b[38;5;66;03m# misc\u001b[39;00m\n\u001b[0;32m    132\u001b[0m     Flags,\n\u001b[0;32m    133\u001b[0m     Grouper,\n\u001b[0;32m    134\u001b[0m     factorize,\n\u001b[0;32m    135\u001b[0m     unique,\n\u001b[0;32m    136\u001b[0m     value_counts,\n\u001b[0;32m    137\u001b[0m     NamedAgg,\n\u001b[0;32m    138\u001b[0m     array,\n\u001b[0;32m    139\u001b[0m     Categorical,\n\u001b[0;32m    140\u001b[0m     set_eng_float_format,\n\u001b[0;32m    141\u001b[0m     Series,\n\u001b[0;32m    142\u001b[0m     DataFrame,\n\u001b[0;32m    143\u001b[0m )\n\u001b[0;32m    145\u001b[0m \u001b[38;5;28;01mfrom\u001b[39;00m\u001b[38;5;250m \u001b[39m\u001b[38;5;21;01mpandas\u001b[39;00m\u001b[38;5;21;01m.\u001b[39;00m\u001b[38;5;21;01mcore\u001b[39;00m\u001b[38;5;21;01m.\u001b[39;00m\u001b[38;5;21;01mdtypes\u001b[39;00m\u001b[38;5;21;01m.\u001b[39;00m\u001b[38;5;21;01mdtypes\u001b[39;00m\u001b[38;5;250m \u001b[39m\u001b[38;5;28;01mimport\u001b[39;00m SparseDtype\n\u001b[0;32m    147\u001b[0m \u001b[38;5;28;01mfrom\u001b[39;00m\u001b[38;5;250m \u001b[39m\u001b[38;5;21;01mpandas\u001b[39;00m\u001b[38;5;21;01m.\u001b[39;00m\u001b[38;5;21;01mtseries\u001b[39;00m\u001b[38;5;21;01m.\u001b[39;00m\u001b[38;5;21;01mapi\u001b[39;00m\u001b[38;5;250m \u001b[39m\u001b[38;5;28;01mimport\u001b[39;00m infer_freq\n",
      "File \u001b[1;32m~\\AppData\\Roaming\\Python\\Python39\\site-packages\\pandas\\core\\api.py:23\u001b[0m, in \u001b[0;36m<module>\u001b[1;34m\u001b[0m\n\u001b[0;32m      9\u001b[0m \u001b[38;5;28;01mfrom\u001b[39;00m\u001b[38;5;250m \u001b[39m\u001b[38;5;21;01mpandas\u001b[39;00m\u001b[38;5;21;01m.\u001b[39;00m\u001b[38;5;21;01mcore\u001b[39;00m\u001b[38;5;21;01m.\u001b[39;00m\u001b[38;5;21;01mdtypes\u001b[39;00m\u001b[38;5;21;01m.\u001b[39;00m\u001b[38;5;21;01mdtypes\u001b[39;00m\u001b[38;5;250m \u001b[39m\u001b[38;5;28;01mimport\u001b[39;00m (\n\u001b[0;32m     10\u001b[0m     ArrowDtype,\n\u001b[0;32m     11\u001b[0m     CategoricalDtype,\n\u001b[1;32m   (...)\u001b[0m\n\u001b[0;32m     14\u001b[0m     PeriodDtype,\n\u001b[0;32m     15\u001b[0m )\n\u001b[0;32m     16\u001b[0m \u001b[38;5;28;01mfrom\u001b[39;00m\u001b[38;5;250m \u001b[39m\u001b[38;5;21;01mpandas\u001b[39;00m\u001b[38;5;21;01m.\u001b[39;00m\u001b[38;5;21;01mcore\u001b[39;00m\u001b[38;5;21;01m.\u001b[39;00m\u001b[38;5;21;01mdtypes\u001b[39;00m\u001b[38;5;21;01m.\u001b[39;00m\u001b[38;5;21;01mmissing\u001b[39;00m\u001b[38;5;250m \u001b[39m\u001b[38;5;28;01mimport\u001b[39;00m (\n\u001b[0;32m     17\u001b[0m     isna,\n\u001b[0;32m     18\u001b[0m     isnull,\n\u001b[0;32m     19\u001b[0m     notna,\n\u001b[0;32m     20\u001b[0m     notnull,\n\u001b[0;32m     21\u001b[0m )\n\u001b[1;32m---> 23\u001b[0m \u001b[38;5;28;01mfrom\u001b[39;00m\u001b[38;5;250m \u001b[39m\u001b[38;5;21;01mpandas\u001b[39;00m\u001b[38;5;21;01m.\u001b[39;00m\u001b[38;5;21;01mcore\u001b[39;00m\u001b[38;5;21;01m.\u001b[39;00m\u001b[38;5;21;01malgorithms\u001b[39;00m\u001b[38;5;250m \u001b[39m\u001b[38;5;28;01mimport\u001b[39;00m (\n\u001b[0;32m     24\u001b[0m     factorize,\n\u001b[0;32m     25\u001b[0m     unique,\n\u001b[0;32m     26\u001b[0m     value_counts,\n\u001b[0;32m     27\u001b[0m )\n\u001b[0;32m     28\u001b[0m \u001b[38;5;28;01mfrom\u001b[39;00m\u001b[38;5;250m \u001b[39m\u001b[38;5;21;01mpandas\u001b[39;00m\u001b[38;5;21;01m.\u001b[39;00m\u001b[38;5;21;01mcore\u001b[39;00m\u001b[38;5;21;01m.\u001b[39;00m\u001b[38;5;21;01marrays\u001b[39;00m\u001b[38;5;250m \u001b[39m\u001b[38;5;28;01mimport\u001b[39;00m Categorical\n\u001b[0;32m     29\u001b[0m \u001b[38;5;28;01mfrom\u001b[39;00m\u001b[38;5;250m \u001b[39m\u001b[38;5;21;01mpandas\u001b[39;00m\u001b[38;5;21;01m.\u001b[39;00m\u001b[38;5;21;01mcore\u001b[39;00m\u001b[38;5;21;01m.\u001b[39;00m\u001b[38;5;21;01marrays\u001b[39;00m\u001b[38;5;21;01m.\u001b[39;00m\u001b[38;5;21;01mboolean\u001b[39;00m\u001b[38;5;250m \u001b[39m\u001b[38;5;28;01mimport\u001b[39;00m BooleanDtype\n",
      "File \u001b[1;32m~\\AppData\\Roaming\\Python\\Python39\\site-packages\\pandas\\core\\algorithms.py:25\u001b[0m, in \u001b[0;36m<module>\u001b[1;34m\u001b[0m\n\u001b[0;32m     17\u001b[0m \u001b[38;5;28;01mimport\u001b[39;00m\u001b[38;5;250m \u001b[39m\u001b[38;5;21;01mnumpy\u001b[39;00m\u001b[38;5;250m \u001b[39m\u001b[38;5;28;01mas\u001b[39;00m\u001b[38;5;250m \u001b[39m\u001b[38;5;21;01mnp\u001b[39;00m\n\u001b[0;32m     19\u001b[0m \u001b[38;5;28;01mfrom\u001b[39;00m\u001b[38;5;250m \u001b[39m\u001b[38;5;21;01mpandas\u001b[39;00m\u001b[38;5;21;01m.\u001b[39;00m\u001b[38;5;21;01m_libs\u001b[39;00m\u001b[38;5;250m \u001b[39m\u001b[38;5;28;01mimport\u001b[39;00m (\n\u001b[0;32m     20\u001b[0m     algos,\n\u001b[0;32m     21\u001b[0m     hashtable \u001b[38;5;28;01mas\u001b[39;00m htable,\n\u001b[0;32m     22\u001b[0m     iNaT,\n\u001b[0;32m     23\u001b[0m     lib,\n\u001b[0;32m     24\u001b[0m )\n\u001b[1;32m---> 25\u001b[0m \u001b[38;5;28;01mfrom\u001b[39;00m\u001b[38;5;250m \u001b[39m\u001b[38;5;21;01mpandas\u001b[39;00m\u001b[38;5;21;01m.\u001b[39;00m\u001b[38;5;21;01m_typing\u001b[39;00m\u001b[38;5;250m \u001b[39m\u001b[38;5;28;01mimport\u001b[39;00m (\n\u001b[0;32m     26\u001b[0m     AnyArrayLike,\n\u001b[0;32m     27\u001b[0m     ArrayLike,\n\u001b[0;32m     28\u001b[0m     AxisInt,\n\u001b[0;32m     29\u001b[0m     DtypeObj,\n\u001b[0;32m     30\u001b[0m     TakeIndexer,\n\u001b[0;32m     31\u001b[0m     npt,\n\u001b[0;32m     32\u001b[0m )\n\u001b[0;32m     33\u001b[0m \u001b[38;5;28;01mfrom\u001b[39;00m\u001b[38;5;250m \u001b[39m\u001b[38;5;21;01mpandas\u001b[39;00m\u001b[38;5;21;01m.\u001b[39;00m\u001b[38;5;21;01mutil\u001b[39;00m\u001b[38;5;21;01m.\u001b[39;00m\u001b[38;5;21;01m_decorators\u001b[39;00m\u001b[38;5;250m \u001b[39m\u001b[38;5;28;01mimport\u001b[39;00m doc\n\u001b[0;32m     34\u001b[0m \u001b[38;5;28;01mfrom\u001b[39;00m\u001b[38;5;250m \u001b[39m\u001b[38;5;21;01mpandas\u001b[39;00m\u001b[38;5;21;01m.\u001b[39;00m\u001b[38;5;21;01mutil\u001b[39;00m\u001b[38;5;21;01m.\u001b[39;00m\u001b[38;5;21;01m_exceptions\u001b[39;00m\u001b[38;5;250m \u001b[39m\u001b[38;5;28;01mimport\u001b[39;00m find_stack_level\n",
      "\u001b[1;31mImportError\u001b[0m: cannot import name 'AxisInt' from 'pandas._typing' (C:\\ProgramData\\Anaconda3\\lib\\site-packages\\pandas\\_typing.py)"
     ]
    }
   ],
   "source": [
    "import pandas as pd\n",
    "import numpy as np\n",
    "from sklearn.preprocessing import MinMaxScaler\n",
    "\n",
    "# Define correct column names\n",
    "column_names = [\"Date\", \"Open\", \"High\", \"Low\", \"Close\", \"Volume\"]\n",
    "\n",
    "# Load CSV, skipping first two rows, and setting column names\n",
    "df = pd.read_csv(\"../data/bitcoin_prices.csv\", skiprows=2, names=column_names)\n",
    "\n",
    "# Convert \"Date\" to datetime format\n",
    "df[\"Date\"] = pd.to_datetime(df[\"Date\"], errors=\"coerce\")\n",
    "\n",
    "# Drop any rows where \"Date\" is missing\n",
    "df.dropna(subset=[\"Date\"], inplace=True)\n",
    "\n",
    "# Set \"Date\" as the index\n",
    "df.set_index(\"Date\", inplace=True)\n",
    "\n",
    "# Normalize the \"Close\" price\n",
    "scaler = MinMaxScaler(feature_range=(0, 1))\n",
    "df[\"Close_Scaled\"] = scaler.fit_transform(df[[\"Close\"]])\n",
    "\n",
    "# Create a target column (shifted Close price for prediction)\n",
    "df[\"Prediction\"] = df[\"Close_Scaled\"].shift(-30)\n",
    "\n",
    "# Drop the last 30 rows since they have no target values\n",
    "df.dropna(inplace=True)\n",
    "\n",
    "# Save the cleaned & processed data\n",
    "df.to_csv(\"../data/processed_bitcoin_prices.csv\")\n",
    "\n",
    "# Display final dataset\n",
    "df.head()\n"
   ]
  }
 ],
 "metadata": {
  "kernelspec": {
   "display_name": "Python 3 (ipykernel)",
   "language": "python",
   "name": "python3"
  },
  "language_info": {
   "codemirror_mode": {
    "name": "ipython",
    "version": 3
   },
   "file_extension": ".py",
   "mimetype": "text/x-python",
   "name": "python",
   "nbconvert_exporter": "python",
   "pygments_lexer": "ipython3",
   "version": "3.9.12"
  }
 },
 "nbformat": 4,
 "nbformat_minor": 5
}

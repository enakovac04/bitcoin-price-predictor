{
 "cells": [
  {
   "cell_type": "code",
   "execution_count": 2,
   "id": "fb55a1cc",
   "metadata": {},
   "outputs": [
    {
     "data": {
      "text/html": [
       "<div>\n",
       "<style scoped>\n",
       "    .dataframe tbody tr th:only-of-type {\n",
       "        vertical-align: middle;\n",
       "    }\n",
       "\n",
       "    .dataframe tbody tr th {\n",
       "        vertical-align: top;\n",
       "    }\n",
       "\n",
       "    .dataframe thead th {\n",
       "        text-align: right;\n",
       "    }\n",
       "</style>\n",
       "<table border=\"1\" class=\"dataframe\">\n",
       "  <thead>\n",
       "    <tr style=\"text-align: right;\">\n",
       "      <th></th>\n",
       "      <th>Open</th>\n",
       "      <th>High</th>\n",
       "      <th>Low</th>\n",
       "      <th>Close</th>\n",
       "      <th>Volume</th>\n",
       "      <th>Close_Scaled</th>\n",
       "      <th>Prediction</th>\n",
       "    </tr>\n",
       "    <tr>\n",
       "      <th>Date</th>\n",
       "      <th></th>\n",
       "      <th></th>\n",
       "      <th></th>\n",
       "      <th></th>\n",
       "      <th></th>\n",
       "      <th></th>\n",
       "      <th></th>\n",
       "    </tr>\n",
       "  </thead>\n",
       "  <tbody>\n",
       "    <tr>\n",
       "      <th>2020-01-02</th>\n",
       "      <td>6985.470215</td>\n",
       "      <td>7212.155273</td>\n",
       "      <td>6935.270020</td>\n",
       "      <td>7202.551270</td>\n",
       "      <td>20802083465</td>\n",
       "      <td>0.035173</td>\n",
       "      <td>0.069448</td>\n",
       "    </tr>\n",
       "    <tr>\n",
       "      <th>2020-01-03</th>\n",
       "      <td>7344.884277</td>\n",
       "      <td>7413.715332</td>\n",
       "      <td>6914.996094</td>\n",
       "      <td>6984.428711</td>\n",
       "      <td>28111481032</td>\n",
       "      <td>0.031686</td>\n",
       "      <td>0.070143</td>\n",
       "    </tr>\n",
       "    <tr>\n",
       "      <th>2020-01-04</th>\n",
       "      <td>7410.656738</td>\n",
       "      <td>7427.385742</td>\n",
       "      <td>7309.514160</td>\n",
       "      <td>7345.375488</td>\n",
       "      <td>18444271275</td>\n",
       "      <td>0.037456</td>\n",
       "      <td>0.069421</td>\n",
       "    </tr>\n",
       "    <tr>\n",
       "      <th>2020-01-05</th>\n",
       "      <td>7411.317383</td>\n",
       "      <td>7544.497070</td>\n",
       "      <td>7400.535645</td>\n",
       "      <td>7410.451660</td>\n",
       "      <td>19725074095</td>\n",
       "      <td>0.038497</td>\n",
       "      <td>0.068592</td>\n",
       "    </tr>\n",
       "    <tr>\n",
       "      <th>2020-01-06</th>\n",
       "      <td>7769.219238</td>\n",
       "      <td>7781.867188</td>\n",
       "      <td>7409.292969</td>\n",
       "      <td>7410.452148</td>\n",
       "      <td>23276261598</td>\n",
       "      <td>0.038497</td>\n",
       "      <td>0.066843</td>\n",
       "    </tr>\n",
       "  </tbody>\n",
       "</table>\n",
       "</div>"
      ],
      "text/plain": [
       "                   Open         High          Low        Close       Volume  \\\n",
       "Date                                                                          \n",
       "2020-01-02  6985.470215  7212.155273  6935.270020  7202.551270  20802083465   \n",
       "2020-01-03  7344.884277  7413.715332  6914.996094  6984.428711  28111481032   \n",
       "2020-01-04  7410.656738  7427.385742  7309.514160  7345.375488  18444271275   \n",
       "2020-01-05  7411.317383  7544.497070  7400.535645  7410.451660  19725074095   \n",
       "2020-01-06  7769.219238  7781.867188  7409.292969  7410.452148  23276261598   \n",
       "\n",
       "            Close_Scaled  Prediction  \n",
       "Date                                  \n",
       "2020-01-02      0.035173    0.069448  \n",
       "2020-01-03      0.031686    0.070143  \n",
       "2020-01-04      0.037456    0.069421  \n",
       "2020-01-05      0.038497    0.068592  \n",
       "2020-01-06      0.038497    0.066843  "
      ]
     },
     "execution_count": 2,
     "metadata": {},
     "output_type": "execute_result"
    }
   ],
   "source": [
    "import pandas as pd\n",
    "import numpy as np\n",
    "import matplotlib.pyplot as plt\n",
    "import xgboost as xgb\n",
    "from sklearn.model_selection import train_test_split\n",
    "from sklearn.preprocessing import MinMaxScaler\n",
    "from sklearn.metrics import mean_absolute_error, mean_squared_error\n",
    "\n",
    "# Load the preprocessed dataset\n",
    "df = pd.read_csv(\"../data/processed_bitcoin_prices.csv\", parse_dates=[\"Date\"], index_col=\"Date\")\n",
    "\n",
    "# Display dataset\n",
    "df.head()\n"
   ]
  },
  {
   "cell_type": "code",
   "execution_count": 3,
   "id": "f8585313",
   "metadata": {},
   "outputs": [
    {
     "name": "stdout",
     "output_type": "stream",
     "text": [
      "Training data size: 1176\n",
      "Testing data size: 295\n"
     ]
    }
   ],
   "source": [
    "# Define input (X) and target (y)\n",
    "X = df[[\"Close_Scaled\", \"Open\", \"High\", \"Low\", \"Volume\"]]  # Multiple features\n",
    "y = df[\"Prediction\"]  # Target variable (next day's Bitcoin price)\n",
    "\n",
    "# Split into training (80%) and testing (20%) sets\n",
    "X_train, X_test, y_train, y_test = train_test_split(X, y, test_size=0.2, random_state=42)\n",
    "\n",
    "# Show dataset sizes\n",
    "print(\"Training data size:\", X_train.shape[0])\n",
    "print(\"Testing data size:\", X_test.shape[0])\n"
   ]
  },
  {
   "cell_type": "code",
   "execution_count": 4,
   "id": "0b6d48e5",
   "metadata": {},
   "outputs": [
    {
     "name": "stdout",
     "output_type": "stream",
     "text": [
      "Training samples: 1176\n",
      "Testing samples: 295\n"
     ]
    }
   ],
   "source": [
    "# Initialize and train the XGBoost model\n",
    "model = xgb.XGBRegressor(\n",
    "    objective=\"reg:squarederror\",\n",
    "    n_estimators=200,  # Number of trees\n",
    "    learning_rate=0.1,\n",
    "    max_depth=5,\n",
    "    random_state=42\n",
    ")\n",
    "\n",
    "model.fit(X_train, y_train)\n",
    "\n",
    "# Make predictions\n",
    "predictions = model.predict(X_test)\n",
    "\n",
    "# Convert predictions back to original scale\n",
    "predictions_rescaled = np.interp(predictions, (0, 1), (df[\"Close\"].min(), df[\"Close\"].max()))\n",
    "y_test_rescaled = np.interp(y_test, (0, 1), (df[\"Close\"].min(), df[\"Close\"].max()))\n",
    "\n",
    "# Print dataset sizes\n",
    "print(f\"Training samples: {len(X_train)}\")\n",
    "print(f\"Testing samples: {len(X_test)}\")\n"
   ]
  },
  {
   "cell_type": "code",
   "execution_count": 5,
   "id": "493ddbaa",
   "metadata": {},
   "outputs": [
    {
     "name": "stdout",
     "output_type": "stream",
     "text": [
      "Mean Absolute Error (MAE): 4092.69\n",
      "Mean Squared Error (MSE): 36415841.91\n"
     ]
    }
   ],
   "source": [
    "# Calculate error metrics\n",
    "mae = mean_absolute_error(y_test_rescaled, predictions_rescaled)\n",
    "mse = mean_squared_error(y_test_rescaled, predictions_rescaled)\n",
    "\n",
    "print(f\"Mean Absolute Error (MAE): {mae:.2f}\")\n",
    "print(f\"Mean Squared Error (MSE): {mse:.2f}\")\n"
   ]
  }
 ],
 "metadata": {
  "kernelspec": {
   "display_name": "Python 3 (ipykernel)",
   "language": "python",
   "name": "python3"
  },
  "language_info": {
   "codemirror_mode": {
    "name": "ipython",
    "version": 3
   },
   "file_extension": ".py",
   "mimetype": "text/x-python",
   "name": "python",
   "nbconvert_exporter": "python",
   "pygments_lexer": "ipython3",
   "version": "3.9.12"
  }
 },
 "nbformat": 4,
 "nbformat_minor": 5
}
